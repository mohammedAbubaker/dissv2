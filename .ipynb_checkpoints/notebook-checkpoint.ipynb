{
 "cells": [
  {
   "cell_type": "markdown",
   "id": "0d10731c-728b-43e9-b79e-2fda704810ac",
   "metadata": {},
   "source": [
    "## Define imports"
   ]
  },
  {
   "cell_type": "code",
   "execution_count": 1,
   "id": "e8633e56-1a0f-456f-a94d-3b4b034b9abd",
   "metadata": {},
   "outputs": [],
   "source": [
    "import torch as to\n",
    "import torch.nn as nn\n",
    "import torch.optim as optim\n",
    "import numpy as np\n",
    "\n",
    "from plyfile import PlyData\n",
    "\n",
    "import pandas as pd\n",
    "\n",
    "device = \"cuda\""
   ]
  },
  {
   "cell_type": "markdown",
   "id": "839b068e-fb3a-4540-b096-0bc87dca1e49",
   "metadata": {},
   "source": [
    "## Utility functions"
   ]
  },
  {
   "cell_type": "code",
   "execution_count": 2,
   "id": "a303b863-27e2-4a05-9437-c3259ac7a38f",
   "metadata": {},
   "outputs": [],
   "source": [
    "def broadcast(gauss_batch, ray_batch):\n",
    "    \n",
    "    # Split up gauss_batch\n",
    "    means, covariances, opacities, normals, reference_normals = gauss_batch\n",
    "    # Split up ray_batch\n",
    "    ray_oris, ray_dirs = ray_batch\n",
    "    \n",
    "    R = ray_oris.shape[0]\n",
    "    G = means.shape[0]\n",
    "\n",
    "    bcast_ray_oris = ray_oris.unsqueeze(1)\n",
    "    # (N_rays, 1, 3)\n",
    "    bcast_ray_dirs = ray_dirs.unsqueeze(1)\n",
    "    # (1, N_gaussians, 3)\n",
    "    bcast_means = means.unsqueeze(0)\n",
    "    # (1, N_gaussians, 3)\n",
    "    bcast_covariances = covariances.unsqueeze(0)\n",
    "    # (1, N_gaussians)\n",
    "    bcast_opacities = opacities.unsqueeze(0)\n",
    "    # (1, N_gaussians, 3)\n",
    "    bcast_normals = normals.unsqueeze(0)\n",
    "    # (1, N_gaussians, 3)\n",
    "    bcast_reference_normals = reference_normals.unsqueeze(0)\n",
    "\n",
    "    return (\n",
    "        bcast_means,\n",
    "        bcast_covariances,\n",
    "        bcast_opacities,\n",
    "        bcast_normals,\n",
    "        bcast_reference_normals,\n",
    "        bcast_ray_oris,\n",
    "        bcast_ray_dirs\n",
    "    )"
   ]
  },
  {
   "cell_type": "code",
   "execution_count": 3,
   "id": "f5336016-661b-4579-b2b6-dc9d96c6b16d",
   "metadata": {},
   "outputs": [],
   "source": [
    "def generate_sphere_rays(center, radius, n):\n",
    "    # Generate random angles for spherical coordinates\n",
    "    theta = to.rand(n, 1) * 2 * to.pi  # Azimuthal angle\n",
    "    phi = to.rand(n, 1) * to.pi        # Polar angle\n",
    "\n",
    "    # Spherical to Cartesian conversion\n",
    "    x = radius * to.sin(phi) * to.cos(theta)\n",
    "    y = radius * to.sin(phi) * to.sin(theta)\n",
    "    z = radius * to.cos(phi)\n",
    "\n",
    "    # Combine into ray origins\n",
    "    ray_oris = to.hstack((x, y, z))\n",
    "\n",
    "    # Ray directions pointing outward from the center\n",
    "    ray_dirs = ray_oris - center\n",
    "    # Normalise ray dirs\n",
    "    ray_dirs = ray_dirs / to.linalg.norm(ray_dirs)\n",
    "\n",
    "    return ray_oris, ray_dirs"
   ]
  },
  {
   "cell_type": "code",
   "execution_count": 4,
   "id": "ff616ecc-e501-4de2-9d04-73aa839467be",
   "metadata": {},
   "outputs": [],
   "source": [
    "def compute_pairwise_great_circle(points, radius=1.0):\n",
    "    # Normalize points to lie on the unit sphere\n",
    "    points_normalized = points / points.norm(dim=1, keepdim=True)\n",
    "    # Compute the pairwise dot product; for unit vectors, this equals cos(theta)\n",
    "    dot_prod = to.mm(points_normalized, points_normalized.t())\n",
    "    # Clamp to ensure numerical stability\n",
    "    dot_prod = to.clamp(dot_prod, -1.0, 1.0)\n",
    "    # Compute the great circle distance (angle in radians)\n",
    "    distances = to.acos(dot_prod)\n",
    "    # Scale by the sphere's radius if needed\n",
    "    return distances * radius"
   ]
  },
  {
   "cell_type": "code",
   "execution_count": 5,
   "id": "9430a01c-3cc6-4696-9474-0e56016f3160",
   "metadata": {},
   "outputs": [],
   "source": [
    "def compute_graph_laplacian(points, sigma, radius=1.0):\n",
    "    # Compute pairwise great circle distances\n",
    "    distances = compute_pairwise_great_circle(points, radius)\n",
    "    # Create weight matrix using a Gaussian kernel\n",
    "    W = to.exp(-distances**2 / (2 * sigma**2))\n",
    "    # Optionally, remove self-loops by zeroing out the diagonal\n",
    "    W.fill_diagonal_(0)\n",
    "    # Compute degree matrix\n",
    "    D = to.diag(W.sum(dim=1))\n",
    "    # Graph Laplacian: L = D - W\n",
    "    L = D - W\n",
    "    return L"
   ]
  },
  {
   "cell_type": "markdown",
   "id": "81da522c-1d3c-4ed9-9493-4c3ad87fd142",
   "metadata": {},
   "source": [
    "## Load data and process Gaussian model."
   ]
  },
  {
   "cell_type": "code",
   "execution_count": 6,
   "id": "9b3198d7-42b1-47b1-9a25-76c5afda4367",
   "metadata": {},
   "outputs": [],
   "source": [
    "def quaternion_to_rotation_matrix(quaternions):\n",
    "    x = quaternions[:, 1]\n",
    "    y = quaternions[:, 2]\n",
    "    z = quaternions[:, 3]\n",
    "    w = quaternions[:, 0]\n",
    "\n",
    "    xx = x * x\n",
    "    yy = y * y\n",
    "    zz = z * z\n",
    "    xy = x * y\n",
    "    xz = x * z\n",
    "    yz = y * z\n",
    "    xw = x * w\n",
    "    yw = y * w\n",
    "    zw = z * w\n",
    "\n",
    "    n = quaternions.shape[0]\n",
    "    R = to.empty((n, 3, 3), dtype=quaternions.dtype)\n",
    "\n",
    "    R[:, 0, 0] = 1 - 2 * (yy + zz)\n",
    "    R[:, 0, 1] = 2 * (xy - zw)\n",
    "    R[:, 0, 2] = 2 * (xz + yw)\n",
    "    R[:, 1, 0] = 2 * (xy + zw)\n",
    "    R[:, 1, 1] = 1 - 2 * (xx + zz)\n",
    "    R[:, 1, 2] = 2 * (yz - xw)\n",
    "    R[:, 2, 0] = 2 * (xz - yw)\n",
    "    R[:, 2, 1] = 2 * (yz + xw)\n",
    "    R[:, 2, 2] = 1 - 2 * (xx + yy)\n",
    "\n",
    "    return R\n",
    "\n",
    "class GaussianModel:    \n",
    "    def __init__(self, path):\n",
    "        # Load in data\n",
    "        plyfile = PlyData.read(path)\n",
    "        plydata = plyfile['vertex'].data\n",
    "        # Covert data into tensors\n",
    "        df = pd.DataFrame(plydata)\n",
    "        means_mask = [\"x\", \"y\", \"z\"]\n",
    "        quaternions_mask = [\"rot_0\", \"rot_1\", \"rot_2\", \"rot_3\"]\n",
    "        scales_mask = [\"scale_0\", \"scale_1\", \"scale_2\"]\n",
    "        opacities_mask = [\"opacity\"]\n",
    "\n",
    "        self.means = to.tensor(df[means_mask].values)\n",
    "        self.quaternions = to.tensor(df[quaternions_mask].values)\n",
    "        self.scales = to.tensor(df[scales_mask].values)\n",
    "        self.opacities = to.tensor(df[opacities_mask].values)\n",
    "        \n",
    "        # Set base data\n",
    "        self.n_gaussians = plydata.shape[0]\n",
    "\n",
    "        self.means = to.tensor(df[means_mask].values)\n",
    "        self.quaternions = to.tensor(df[quaternions_mask].values)\n",
    "        self.scales = to.tensor(df[scales_mask].values)\n",
    "        self.opacities = to.tensor(df[opacities_mask].values)\n",
    "        \n",
    "        # Activate opacities\n",
    "        self.opacities = 1 / (1 + to.exp(-self.opacities))\n",
    "        # Derive rotation matrix\n",
    "        self.normalised_quaternions = self.quaternions / to.linalg.norm(self.quaternions)\n",
    "        self.rotations = quaternion_to_rotation_matrix(self.normalised_quaternions)\n",
    "        # Derive scale matrix\n",
    "        self.scales_exp = to.exp(self.scales)\n",
    "        self.scales_d = to.eye(3)[None, :, :] * (self.scales_exp)[:, :, None]\n",
    "        self.scales_d **= 2\n",
    "        self.scales_i_d = to.eye(3)[None, :, :] * (1/self.scales_exp)[:, :, None]\n",
    "        self.scales_i_d **= 2\n",
    "        # Derive covariance matrix\n",
    "        self.rotations_t = self.rotations.transpose(-1,-2)\n",
    "        self.scales_d_t = self.scales_d.transpose(-1,-2)\n",
    "        self.covariances = self.rotations @ self.scales_d @ self.rotations_t\n",
    "        # Derive the normals (use the centroid to flip normals correctly.)\n",
    "        min_indices = self.scales_exp.argmin(axis=1)\n",
    "        self.normals = self.rotations[to.arange(self.n_gaussians), :, min_indices]\n",
    "        self.normals = self.normals / to.linalg.norm(self.normals)\n",
    "        centroid = self.means.mean(dim=0)\n",
    "        vectors_to_centroid = centroid - self.means\n",
    "        dot_products = (vectors_to_centroid * self.normals).sum(dim=1)\n",
    "        flip_mask = dot_products < 0\n",
    "        self.normals[flip_mask] = -self.normals[flip_mask]\n",
    "        self.reference_normals = self.normals"
   ]
  },
  {
   "cell_type": "markdown",
   "id": "a50dec73-e9df-4f65-ba39-6e361774de6c",
   "metadata": {},
   "source": [
    "# Projection shit"
   ]
  },
  {
   "cell_type": "code",
   "execution_count": 7,
   "id": "07ea4bfb-7494-46a7-9cad-0213fc01e5b1",
   "metadata": {},
   "outputs": [],
   "source": [
    "def evaluate_points(points, gaussian_means, gaussian_inv_covs, gaussian_opacities):\n",
    "    distance_to_mean = points - gaussian_means\n",
    "    exponent = -0.5 * (distance_to_mean[:,:,None,:] @ gaussian_inv_covs @ distance_to_mean[..., None])\n",
    "    evaluations = gaussian_opacities * to.exp(exponent).squeeze(-1)\n",
    "    return evaluations"
   ]
  },
  {
   "cell_type": "code",
   "execution_count": 8,
   "id": "59e2484f-0a1c-4f03-941d-df3b4a833969",
   "metadata": {},
   "outputs": [],
   "source": [
    "def skew_symmetric(v):\n",
    "    row1 = to.stack([to.zeros_like(v[..., 0]), -v[..., 2], v[..., 1]], dim=-1)\n",
    "    row2 = to.stack([v[..., 2], to.zeros_like(v[..., 1]), -v[..., 0]], dim=-1)\n",
    "    row3 = to.stack([-v[..., 1], v[..., 0], to.zeros_like(v[..., 2])], dim=-1)\n",
    "    K = to.stack([row1, row2, row3], dim=-2)\n",
    "    return K"
   ]
  },
  {
   "cell_type": "code",
   "execution_count": 9,
   "id": "f0575c41-c871-42ab-8963-c478390e82dc",
   "metadata": {},
   "outputs": [],
   "source": [
    "def normals_to_rot_matrix(a, b):\n",
    "    # Given 2 RxNx3 vectors a and b, return an RxNx3x3 rotation matrix\n",
    "    a_dot_b = (a[:,:,None,:] @ b[..., None]).squeeze(-1).squeeze(-1)\n",
    "    a_norm = to.linalg.norm(a)\n",
    "    b_norm = to.linalg.norm(b,dim=2)\n",
    "    angle = to.acos((a_dot_b / (a_norm * b_norm)))\n",
    "    v = to.cross(a,b)\n",
    "    s = to.norm(v,dim=2) * to.sin(angle)\n",
    "    c = a_dot_b * to.cos(angle) \n",
    "    i = to.eye(3).tile(a.shape[0],a.shape[1],1,1)\n",
    "    v_skew = skew_symmetric(v)\n",
    "    last_term = 1 / (1 + c)\n",
    "    return i + v_skew + (v_skew @ v_skew) * last_term[...,None,None]"
   ]
  },
  {
   "cell_type": "code",
   "execution_count": 10,
   "id": "ee881bd5-3029-4465-ad14-419ca3fc45a7",
   "metadata": {},
   "outputs": [],
   "source": [
    "def get_max_responses_and_tvals(\n",
    "    ray_oris, \n",
    "    means, \n",
    "    covs,\n",
    "    ray_dirs, \n",
    "    opacities,\n",
    "    normals,\n",
    "    old_normals\n",
    "):\n",
    "    new_rotations = normals_to_rot_matrix(old_normals, normals)\n",
    "    new_covs = new_rotations @ covs @ new_rotations.transpose(-2,-1)\n",
    "    inv_covs = to.linalg.inv(new_covs)\n",
    "    rg_diff = means - ray_oris\n",
    "    inv_cov_d = inv_covs @ ray_dirs[..., None]\n",
    "    numerator = (rg_diff[:,:,None,:] @ inv_cov_d).squeeze(-1)\n",
    "    denomenator = (ray_dirs[:,:,None,:] @ inv_cov_d).squeeze(-1)\n",
    "    t_values = numerator / denomenator\n",
    "    best_positions = (ray_oris + t_values * ray_dirs)\n",
    "    max_responses = evaluate_points(best_positions, means, inv_covs, opacities)\n",
    "\n",
    "    return max_responses, t_values"
   ]
  },
  {
   "cell_type": "code",
   "execution_count": 11,
   "id": "e6c3c632-297b-4981-b952-4558262c8a44",
   "metadata": {},
   "outputs": [],
   "source": [
    "from torch.utils.data import TensorDataset, DataLoader\n",
    "\n",
    "class GaussianParameters(nn.Module):\n",
    "    def __init__(self, path):\n",
    "        super(GaussianParameters, self).__init__()\n",
    "        self.gaussian_model = GaussianModel(path)\n",
    "        self.means = nn.Parameter(self.gaussian_model.means)\n",
    "        self.normals = nn.Parameter(self.gaussian_model.normals)\n",
    "        ray_oris, ray_dirs = generate_sphere_rays(to.tensor([0.0,0.0,0.0]), 10,100)\n",
    "        self.ray_oris = ray_oris\n",
    "        self.ray_dirs = ray_dirs\n",
    "        self.laplacian = compute_graph_laplacian(ray_oris, 1, 10)\n",
    "\n",
    "    def forward(self):\n",
    "        return self.means, self.normals\n",
    "\n",
    "    def project(self):\n",
    "        gaussian_dataset = TensorDataset(\n",
    "            self.means,\n",
    "            self.gaussian_model.covariances,\n",
    "            self.gaussian_model.opacities,\n",
    "            self.normals,\n",
    "            self.gaussian_model.reference_normals\n",
    "        )\n",
    "        rays_dataset = TensorDataset(\n",
    "            self.ray_oris,\n",
    "            self.ray_dirs\n",
    "        )\n",
    "\n",
    "        gaussian_generator = DataLoader(gaussian_dataset, batch_size=10000)\n",
    "        ray_generator = DataLoader(rays_dataset, batch_size=10000)\n",
    "\n",
    "        self.contributions = []\n",
    "        self.alphas = []\n",
    "        self.tvals = []\n",
    "        self.values = []\n",
    "        for ray_batch in ray_generator:\n",
    "            self.alphas_along_ray = []\n",
    "            self.tvals_along_ray = []\n",
    "            for gauss_batch in gaussian_generator:\n",
    "                (bcast_means,\n",
    "                bcast_covariances,\n",
    "                bcast_opacities,\n",
    "                bcast_normals,\n",
    "                bcast_reference_normals,\n",
    "                bcast_ray_oris,\n",
    "                bcast_ray_dirs) = broadcast(gauss_batch, ray_batch)\n",
    "\n",
    "                batch_alphas, batch_tvals = get_max_responses_and_tvals(\n",
    "                    bcast_ray_oris, \n",
    "                    bcast_means, \n",
    "                    bcast_covariances, \n",
    "                    bcast_ray_dirs, \n",
    "                    bcast_opacities,\n",
    "                    bcast_normals,\n",
    "                    bcast_reference_normals\n",
    "                )\n",
    "\n",
    "                \n",
    "                self.alphas_along_ray.append(batch_alphas)\n",
    "                self.tvals_along_ray.append(batch_tvals)\n",
    "                 \n",
    "            self.alphas_along_ray = to.cat(self.alphas_along_ray, dim=1)\n",
    "            self.tvals_along_ray = to.cat(self.tvals_along_ray, dim=1)\n",
    "            self.alphas.append(self.alphas_along_ray)\n",
    "            self.tvals.append(self.tvals_along_ray)\n",
    "\n",
    "            _, sorted_idx = to.sort(self.tvals_along_ray, dim=1)\n",
    "            sorted_alphas = self.alphas_along_ray.gather(dim=1, index=sorted_idx)\n",
    "            alphas_compliment = 1 - sorted_alphas        \n",
    "            transmittance = to.cumprod(alphas_compliment, dim=1)\n",
    "            shifted = to.ones_like(transmittance)\n",
    "            # Fill shifted starting from the second column with the values of x's columns 0 to N-2\n",
    "            shifted[:, 1:] = transmittance[:, :-1]\n",
    "            # Calculate contribution \n",
    "            sorted_contribution = shifted - transmittance\n",
    "            # Normalise\n",
    "            norm_factor = to.sum(sorted_contribution, dim=1)[...,None]\n",
    "            sorted_contribution = sorted_contribution / norm_factor\n",
    "            # unsort the contribution\n",
    "            inv_idx = sorted_idx.argsort(dim=1)\n",
    "            # Reorder contribution back to the original order:\n",
    "            contribution = sorted_contribution.gather(dim=1, index=inv_idx)\n",
    "            self.contributions.append(contribution)\n",
    "            self.values.append(to.sum(contribution * self.alphas_along_ray, dim=1))\n",
    "        self.values = to.cat(self.values, dim=1)\n",
    "        self.alphas = to.cat(self.alphas, dim=1)\n",
    "        self.tvals = to.cat(self.tvals, dim=1)\n",
    "        self.contributions = to.cat(self.contributions, dim=1)\n",
    "        self.blended_tvals = to.sum(self.contributions * self.tvals, dim=1)\n",
    "        return self.blended_tvals\n",
    "    def harmonic_loss(self):\n",
    "        projected_values = self.project() \n",
    "        loss = projected_values.T @ self.laplacian @ projected_values\n",
    "        return loss"
   ]
  },
  {
   "cell_type": "code",
   "execution_count": null,
   "id": "1144e2ca-0cca-4886-ab7a-74ec61ff0b9d",
   "metadata": {},
   "outputs": [],
   "source": []
  },
  {
   "cell_type": "code",
   "execution_count": 12,
   "id": "543ccd6b-9115-4ecd-a25c-cc9f0772868e",
   "metadata": {},
   "outputs": [],
   "source": [
    "from tqdm.notebook import tqdm\n",
    "import vispy\n",
    "import asyncio\n",
    "\n",
    "from vispy import scene\n",
    "from vispy import app\n",
    "from vispy.app import Timer\n",
    "\n",
    "class VispyContext:\n",
    "    def __init__(self):\n",
    "        self.canvas = scene.SceneCanvas(keys='interactive', show=True)  # Create a canvas\n",
    "        self.view = self.canvas.central_widget.add_view()          # Add a view to the canvas\n",
    "        self.scatter = scene.Markers()\n",
    "        self.timer = Timer(interval=0.01, connect=self.update_pos, start=True)\n",
    "\n",
    "    def update_pos(self, positions, values):\n",
    "        print(positions.shape)\n",
    "        self.scatter.set_data(positions, edge_color='red', face_color='blue', size=5)\n",
    "        self.view.add(self.scatter)\n",
    "        self.canvas.update()\n",
    "        # display(self.canvas.native)\n",
    "      \n",
    "def train_model(model, num_iterations=10000, lr=0.005):\n",
    "    optimizer = to.optim.Adam(model.parameters(), lr=lr)\n",
    "    context = VispyContext()\n",
    "    display(context.canvas.native)\n",
    "    for iteration in tqdm(range(num_iterations)):\n",
    "        optimizer.zero_grad()\n",
    "        loss = model.harmonic_loss()\n",
    "        loss.backward()\n",
    "        optimizer.step()\n",
    "        positions = (model.ray_oris + model.blended_tvals * model.ray_dirs).detach().numpy()\n",
    "        blended_tvals = (model.blended_tvals).detach().numpy()\n",
    "        context.update_pos(positions, blended_tvals)\n",
    "\n",
    "        # update vispy context"
   ]
  },
  {
   "cell_type": "code",
   "execution_count": null,
   "id": "197d77d1-630e-43af-9c84-88d5668f8a3c",
   "metadata": {},
   "outputs": [],
   "source": []
  },
  {
   "cell_type": "code",
   "execution_count": 13,
   "id": "8741060a-fc57-4005-beef-36a988c77b62",
   "metadata": {
    "scrolled": true
   },
   "outputs": [
    {
     "data": {
      "application/vnd.jupyter.widget-view+json": {
       "model_id": "94fccca3d05947b19fd0b60f29782e50",
       "version_major": 2,
       "version_minor": 0
      },
      "text/plain": [
       "RFBOutputContext()"
      ]
     },
     "metadata": {},
     "output_type": "display_data"
    },
    {
     "data": {
      "application/vnd.jupyter.widget-view+json": {
       "model_id": "750f743b981547bbb176ea413ecf198a",
       "version_major": 2,
       "version_minor": 0
      },
      "text/html": [
       "<div class='snapshot-750f743b981547bbb176ea413ecf198a' style='position:relative;'><img src='data:image/png;base64,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' style='width:800.0px;height:600.0px;' /><div style='position: absolute; top:0; left:0; padding:1px 3px; background: #777; color:#fff; font-size: 90%; font-family:sans-serif; '>snapshot</div></div>"
      ],
      "text/plain": [
       "CanvasBackend(css_height='600px', css_width='800px')"
      ]
     },
     "metadata": {},
     "output_type": "display_data"
    },
    {
     "data": {
      "application/vnd.jupyter.widget-view+json": {
       "model_id": "84c16f2da4a1449d926fe745eca14ea0",
       "version_major": 2,
       "version_minor": 0
      },
      "text/plain": [
       "  0%|          | 0/10 [00:00<?, ?it/s]"
      ]
     },
     "metadata": {},
     "output_type": "display_data"
    },
    {
     "name": "stdout",
     "output_type": "stream",
     "text": [
      "(100, 3)\n",
      "(100, 3)\n",
      "(100, 3)\n",
      "(100, 3)\n",
      "(100, 3)\n",
      "(100, 3)\n",
      "(100, 3)\n",
      "(100, 3)\n",
      "(100, 3)\n",
      "(100, 3)\n",
      "tensor([[0.0500]], grad_fn=<MmBackward0>)\n"
     ]
    }
   ],
   "source": [
    "model = GaussianParameters(\"point_cloud.ply\")\n",
    "train_model(model=model, num_iterations=10)\n",
    "print(model.harmonic_loss())"
   ]
  },
  {
   "cell_type": "code",
   "execution_count": 14,
   "id": "b3503d2b-7f18-4217-bee6-734ce960cc00",
   "metadata": {},
   "outputs": [],
   "source": [
    "# get snapshot : returns current solution using train_model.harmonic_loss()"
   ]
  },
  {
   "cell_type": "code",
   "execution_count": 15,
   "id": "d304b3e2-f02f-4623-92ed-ef30742cc087",
   "metadata": {},
   "outputs": [
    {
     "data": {
      "text/plain": [
       "tensor([[107.5225]], grad_fn=<MmBackward0>)"
      ]
     },
     "execution_count": 15,
     "metadata": {},
     "output_type": "execute_result"
    }
   ],
   "source": [
    "model = GaussianParameters('point_cloud.ply')\n",
    "ray_oris, ray_dirs = generate_sphere_rays(to.tensor([0.0,0.0,0.0]), 10.0, 100)\n",
    "laplacian = compute_graph_laplacian(ray_oris, 1.0, 10.0)\n",
    "projected_value = model.project()\n",
    "projected_value.T @ laplacian @ projected_value"
   ]
  },
  {
   "cell_type": "code",
   "execution_count": 25,
   "id": "736438f2-3cc0-4432-8607-a3c15076c4e4",
   "metadata": {},
   "outputs": [],
   "source": [
    "from pythreejs import *\n",
    "import ipywidgets\n",
    "from IPython.display import display\n",
    "\n",
    "from pythreejs._example_helper import use_example_model_ids\n",
    "use_example_model_ids()\n",
    "\n",
    "view_width = 600\n",
    "view_height = 400\n",
    "\n",
    "\n",
    "\n",
    "sphere = Mesh(\n",
    "    SphereBufferGeometry(1, 32, 16),\n",
    "    MeshStandardMaterial(color='red')\n",
    ")\n",
    "\n",
    "cube = Mesh(\n",
    "    BoxBufferGeometry(1, 1, 1),\n",
    "    MeshPhysicalMaterial(color='green'),\n",
    "    position=[2, 0, 4]\n",
    ")\n",
    "\n",
    "camera = PerspectiveCamera( position=[10, 6, 10], aspect=view_width/view_height)\n",
    "key_light = DirectionalLight(position=[0, 10, 10])\n",
    "ambient_light = AmbientLight()\n",
    "\n",
    "positon_track = VectorKeyframeTrack(name='.position',\n",
    "    times=[0, 2, 5],\n",
    "    values=[10, 6, 10,\n",
    "            6.3, 3.78, 6.3,\n",
    "            -2.98, 0.84, 9.2,\n",
    "           ])\n",
    "rotation_track = QuaternionKeyframeTrack(name='.quaternion',\n",
    "    times=[0, 2, 5],\n",
    "    values=[-0.184, 0.375, 0.0762, 0.905,\n",
    "            -0.184, 0.375, 0.0762, 0.905,\n",
    "            -0.0430, -0.156, -0.00681, 0.987,\n",
    "           ])\n",
    "\n",
    "camera_clip = AnimationClip(tracks=[positon_track, rotation_track])\n",
    "camera_action = AnimationAction(AnimationMixer(camera), camera_clip, camera)\n",
    "\n",
    "scene = Scene(children=[sphere, cube, camera, key_light, ambient_light])\n",
    "controller = OrbitControls(controlling=camera)\n",
    "renderer = Renderer(camera=camera, scene=scene, controls=[controller],\n",
    "                    width=view_width, height=view_height)\n",
    "\n"
   ]
  },
  {
   "cell_type": "code",
   "execution_count": 26,
   "id": "7b296989-eb71-4658-828c-f080b7e73562",
   "metadata": {},
   "outputs": [
    {
     "data": {
      "application/vnd.jupyter.widget-view+json": {
       "model_id": "pythree_example_model_068",
       "version_major": 2,
       "version_minor": 0
      },
      "text/plain": [
       "Renderer(camera=PerspectiveCamera(aspect=1.5, position=(10.0, 6.0, 10.0), projectionMatrix=(1.4296712803397058…"
      ]
     },
     "execution_count": 26,
     "metadata": {},
     "output_type": "execute_result"
    }
   ],
   "source": [
    "renderer\n",
    "\n"
   ]
  },
  {
   "cell_type": "code",
   "execution_count": 27,
   "id": "30757cef-8cb6-4750-98e5-896e37c87f57",
   "metadata": {},
   "outputs": [
    {
     "data": {
      "application/vnd.jupyter.widget-view+json": {
       "model_id": "pythree_example_model_064",
       "version_major": 2,
       "version_minor": 0
      },
      "text/plain": [
       "AnimationAction(clip=AnimationClip(duration=5.0, tracks=(VectorKeyframeTrack(name='.position', times=array([0,…"
      ]
     },
     "execution_count": 27,
     "metadata": {},
     "output_type": "execute_result"
    }
   ],
   "source": [
    "camera_action\n",
    "\n"
   ]
  },
  {
   "cell_type": "code",
   "execution_count": null,
   "id": "fff10d1b-a34e-4bc1-8969-68b878744543",
   "metadata": {},
   "outputs": [],
   "source": []
  },
  {
   "cell_type": "code",
   "execution_count": null,
   "id": "462c6d10-4d3e-4715-af08-709407bc221a",
   "metadata": {},
   "outputs": [],
   "source": []
  },
  {
   "cell_type": "code",
   "execution_count": null,
   "id": "28e50c12-dae2-49e4-acba-b38a453648c2",
   "metadata": {},
   "outputs": [],
   "source": []
  },
  {
   "cell_type": "code",
   "execution_count": null,
   "id": "0af63908-1dfb-443c-8b48-7ed69d4aeb45",
   "metadata": {},
   "outputs": [],
   "source": []
  }
 ],
 "metadata": {
  "kernelspec": {
   "display_name": "Python 3 (ipykernel)",
   "language": "python",
   "name": "python3"
  },
  "language_info": {
   "codemirror_mode": {
    "name": "ipython",
    "version": 3
   },
   "file_extension": ".py",
   "mimetype": "text/x-python",
   "name": "python",
   "nbconvert_exporter": "python",
   "pygments_lexer": "ipython3",
   "version": "3.9.21"
  }
 },
 "nbformat": 4,
 "nbformat_minor": 5
}
